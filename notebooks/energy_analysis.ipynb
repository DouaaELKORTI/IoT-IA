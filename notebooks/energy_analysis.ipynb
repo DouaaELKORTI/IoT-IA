{
 "cells": [
  {
   "cell_type": "code",
   "execution_count": 1,
   "id": "e4bbdb94-b823-42f0-b1c8-49038a012c86",
   "metadata": {},
   "outputs": [
    {
     "name": "stdout",
     "output_type": "stream",
     "text": [
      "   Home ID Appliance Type  Energy Consumption (kWh)   Time        Date  \\\n",
      "0       94         Fridge                      0.20  21:12  2023-12-02   \n",
      "1      435           Oven                      0.23  20:11  2023-08-06   \n",
      "2      466     Dishwasher                      0.32  06:39  2023-11-21   \n",
      "3      496         Heater                      3.92  21:56  2023-01-21   \n",
      "4      137      Microwave                      0.44  04:31  2023-08-26   \n",
      "\n",
      "   Outdoor Temperature (°C)  Season  Household Size  \n",
      "0                      -1.0    Fall               2  \n",
      "1                      31.1  Summer               5  \n",
      "2                      21.3    Fall               3  \n",
      "3                      -4.2  Winter               1  \n",
      "4                      34.5  Summer               5  \n"
     ]
    }
   ],
   "source": [
    "import pandas as pd\n",
    "df = pd.read_csv('../data/smart_home_energy_consumption_large.csv')\n",
    "print(df.head())"
   ]
  },
  {
   "cell_type": "code",
   "execution_count": null,
   "id": "caf6e435-21a6-4ca9-9cff-927c3a491fc5",
   "metadata": {},
   "outputs": [],
   "source": []
  }
 ],
 "metadata": {
  "kernelspec": {
   "display_name": "Python 3 (ipykernel)",
   "language": "python",
   "name": "python3"
  },
  "language_info": {
   "codemirror_mode": {
    "name": "ipython",
    "version": 3
   },
   "file_extension": ".py",
   "mimetype": "text/x-python",
   "name": "python",
   "nbconvert_exporter": "python",
   "pygments_lexer": "ipython3",
   "version": "3.12.3"
  }
 },
 "nbformat": 4,
 "nbformat_minor": 5
}
